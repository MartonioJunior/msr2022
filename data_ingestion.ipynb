{
 "cells": [
  {
   "cell_type": "code",
   "execution_count": 1,
   "metadata": {},
   "outputs": [],
   "source": [
    "import pandas as pd\n",
    "import dotenv\n",
    "import os\n",
    "from ghapi.all import GhApi\n",
    "dotenv.load_dotenv()\n",
    "from tqdm import tqdm\n",
    "from datetime import datetime, timedelta\n",
    "import time"
   ]
  },
  {
   "cell_type": "code",
   "execution_count": 2,
   "metadata": {},
   "outputs": [],
   "source": [
    "\n",
    "GITHUB_TOKEN = os.getenv(\"GITHUB_TOKEN\")\n",
    "GITHUB_USER_ID = os.getenv(\"GITHUB_USER_ID\")\n",
    "api = GhApi(owner=GITHUB_USER_ID, token=GITHUB_TOKEN)\n",
    "repo_name = \"TeamNewPipe/NewPipe\""
   ]
  },
  {
   "cell_type": "code",
   "execution_count": 3,
   "metadata": {},
   "outputs": [],
   "source": [
    "query_string = f\"is:issue is:open repo:{repo_name}\"\n",
    "#response = api.search.issues_and_pull_requests(q=query_string, sort=\"created\", order=\"desc\", per_page=100)\n",
    "#print(response)"
   ]
  },
  {
   "cell_type": "code",
   "execution_count": 4,
   "metadata": {},
   "outputs": [],
   "source": [
    "def save_csv(path, data):\n",
    "    pd.DataFrame.from_records(data).to_csv(path, mode='a', header=not os.path.exists(path))"
   ]
  },
  {
   "cell_type": "code",
   "execution_count": 8,
   "metadata": {},
   "outputs": [],
   "source": [
    "def request_to_github(month, next_month, page):\n",
    "    query_string = f\"is:issue is:closed created:{month}..{next_month} repo:{repo_name}\"\n",
    "    tries = 1\n",
    "    while True:\n",
    "        try:\n",
    "            return api.search.issues_and_pull_requests(q=query_string, sort=\"created\", order=\"desc\", per_page=100, page=page)\n",
    "        except Exception as e:\n",
    "            print(\"Exception received, probably rate limiting\")\n",
    "            time.sleep(60 * 10) # 10 mins?\n",
    "            print(f\"Retry #{tries} for pull request from {next_month} to {month}\")\n",
    "            tries += 1\n",
    "\n",
    "def perform_issue_ingestion(year: int, *, save_to=\"issues.csv\"):\n",
    "    start_date = datetime(year-1, 12, 31).isoformat().split('T')[0]\n",
    "    end_date = datetime(year+1, 1, 1).isoformat().split('T')[0]\n",
    "    months = [(datetime(year, i, 1)).isoformat().split('T')[0] for i in range(2, 13)]\n",
    "    months = [start_date, *months]\n",
    "    months.append(end_date)\n",
    "    for idx, month in enumerate(months[:-1]):\n",
    "        next_month = months[idx+1]\n",
    "        page = 1\n",
    "        response = request_to_github(month, next_month, page)\n",
    "        ingested = len(response.get(\"items\"))\n",
    "        total_count = response.total_count\n",
    "        if total_count < 1:\n",
    "            print(f\"no issues found from {month} to {next_month}\")\n",
    "            continue\n",
    "        save_csv(save_to, response.get(\"items\"))\n",
    "        with tqdm(desc=f\"Issues from {month} to {next_month}\", total=total_count) as pbar:\n",
    "            while(ingested < total_count):\n",
    "                response = request_to_github(month, next_month, page)\n",
    "                items = response.get(\"items\")\n",
    "                ingested += len(items)\n",
    "                pbar.update(len(items))\n",
    "                pbar.display()\n",
    "                page += 1\n",
    "                save_csv(save_to, response.get(\"items\"))\n",
    "    print(\"done\")\n"
   ]
  },
  {
   "cell_type": "code",
   "execution_count": 9,
   "metadata": {},
   "outputs": [
    {
     "name": "stdout",
     "output_type": "stream",
     "text": [
      "Ingesting closed issues from 2019\n"
     ]
    },
    {
     "name": "stderr",
     "output_type": "stream",
     "text": [
      "Issues from 2018-12-31 to 2019-02-01:   0%|          | 0/86 [00:00<?, ?it/s]\n",
      "Issues from 2019-02-01 to 2019-03-01:   0%|          | 0/63 [00:00<?, ?it/s]\n",
      "Issues from 2019-03-01 to 2019-04-01:   0%|          | 0/69 [00:00<?, ?it/s]\n",
      "Issues from 2019-04-01 to 2019-05-01:   0%|          | 0/37 [00:00<?, ?it/s]\n",
      "Issues from 2019-05-01 to 2019-06-01:   0%|          | 0/51 [00:00<?, ?it/s]\n",
      "Issues from 2019-06-01 to 2019-07-01:   0%|          | 0/51 [00:00<?, ?it/s]\n",
      "Issues from 2019-07-01 to 2019-08-01:   0%|          | 0/34 [00:00<?, ?it/s]\n",
      "Issues from 2019-08-01 to 2019-09-01:   0%|          | 0/78 [00:00<?, ?it/s]\n",
      "Issues from 2019-09-01 to 2019-10-01:   0%|          | 0/71 [00:00<?, ?it/s]\n",
      "Issues from 2019-10-01 to 2019-11-01:   0%|          | 0/63 [00:00<?, ?it/s]\n",
      "Issues from 2019-11-01 to 2019-12-01:   0%|          | 0/48 [00:00<?, ?it/s]\n",
      "Issues from 2019-12-01 to 2020-01-01:   0%|          | 0/57 [00:00<?, ?it/s]\n"
     ]
    },
    {
     "name": "stdout",
     "output_type": "stream",
     "text": [
      "done\n",
      "Ingesting closed issues from 2018\n"
     ]
    },
    {
     "name": "stderr",
     "output_type": "stream",
     "text": [
      "Issues from 2017-12-31 to 2018-02-01:   0%|          | 0/92 [00:00<?, ?it/s]\n",
      "Issues from 2018-02-01 to 2018-03-01:   0%|          | 0/67 [00:00<?, ?it/s]\n",
      "Issues from 2018-03-01 to 2018-04-01:   0%|          | 0/71 [00:00<?, ?it/s]\n",
      "Issues from 2018-04-01 to 2018-05-01:   0%|          | 0/93 [00:00<?, ?it/s]\n",
      "Issues from 2018-05-01 to 2018-06-01:   0%|          | 0/64 [00:00<?, ?it/s]\n",
      "Issues from 2018-06-01 to 2018-07-01:   0%|          | 0/54 [00:00<?, ?it/s]\n",
      "Issues from 2018-07-01 to 2018-08-01:   0%|          | 0/42 [00:00<?, ?it/s]\n",
      "Issues from 2018-08-01 to 2018-09-01:   0%|          | 0/55 [00:00<?, ?it/s]\n",
      "Issues from 2018-09-01 to 2018-10-01:  90%|█████████ | 100/111 [00:01<00:00, 54.60it/s]\n",
      "Issues from 2018-10-01 to 2018-11-01:   0%|          | 0/55 [00:00<?, ?it/s]\n",
      "Issues from 2018-11-01 to 2018-12-01:   0%|          | 0/41 [00:00<?, ?it/s]\n",
      "Issues from 2018-12-01 to 2019-01-01:   0%|          | 0/46 [00:00<?, ?it/s]\n"
     ]
    },
    {
     "name": "stdout",
     "output_type": "stream",
     "text": [
      "done\n",
      "Ingesting closed issues from 2017\n"
     ]
    },
    {
     "name": "stderr",
     "output_type": "stream",
     "text": [
      "Issues from 2016-12-31 to 2017-02-01:   0%|          | 0/33 [00:00<?, ?it/s]\n",
      "Issues from 2017-02-01 to 2017-03-01:   0%|          | 0/25 [00:00<?, ?it/s]\n",
      "Issues from 2017-03-01 to 2017-04-01:   0%|          | 0/16 [00:00<?, ?it/s]\n",
      "Issues from 2017-04-01 to 2017-05-01:   0%|          | 0/27 [00:00<?, ?it/s]\n",
      "Issues from 2017-05-01 to 2017-06-01:   0%|          | 0/38 [00:00<?, ?it/s]\n",
      "Issues from 2017-06-01 to 2017-07-01:   0%|          | 0/15 [00:00<?, ?it/s]\n",
      "Issues from 2017-07-01 to 2017-08-01:   0%|          | 0/25 [00:00<?, ?it/s]\n",
      "Issues from 2017-08-01 to 2017-09-01:   0%|          | 0/17 [00:00<?, ?it/s]\n",
      "Issues from 2017-09-01 to 2017-10-01:   0%|          | 0/58 [00:00<?, ?it/s]\n",
      "Issues from 2017-10-01 to 2017-11-01:   0%|          | 0/40 [00:00<?, ?it/s]\n",
      "Issues from 2017-11-01 to 2017-12-01:   0%|          | 0/61 [00:00<?, ?it/s]\n",
      "Issues from 2017-12-01 to 2018-01-01:   0%|          | 0/51 [00:00<?, ?it/s]\n"
     ]
    },
    {
     "name": "stdout",
     "output_type": "stream",
     "text": [
      "done\n",
      "Ingesting closed issues from 2016\n"
     ]
    },
    {
     "name": "stderr",
     "output_type": "stream",
     "text": [
      "Issues from 2015-12-31 to 2016-02-01:   0%|          | 0/20 [00:00<?, ?it/s]\n",
      "Issues from 2016-02-01 to 2016-03-01:   0%|          | 0/53 [00:00<?, ?it/s]\n",
      "Issues from 2016-03-01 to 2016-04-01:   0%|          | 0/30 [00:00<?, ?it/s]\n",
      "Issues from 2016-04-01 to 2016-05-01:   0%|          | 0/24 [00:00<?, ?it/s]\n",
      "Issues from 2016-05-01 to 2016-06-01:   0%|          | 0/15 [00:00<?, ?it/s]\n",
      "Issues from 2016-06-01 to 2016-07-01:   0%|          | 0/13 [00:00<?, ?it/s]\n",
      "Issues from 2016-07-01 to 2016-08-01:   0%|          | 0/9 [00:00<?, ?it/s]\n",
      "Issues from 2016-08-01 to 2016-09-01:   0%|          | 0/13 [00:00<?, ?it/s]\n",
      "Issues from 2016-09-01 to 2016-10-01:   0%|          | 0/6 [00:00<?, ?it/s]\n",
      "Issues from 2016-10-01 to 2016-11-01:   0%|          | 0/8 [00:00<?, ?it/s]\n",
      "Issues from 2016-11-01 to 2016-12-01:   0%|          | 0/8 [00:00<?, ?it/s]\n",
      "Issues from 2016-12-01 to 2017-01-01:   0%|          | 0/7 [00:00<?, ?it/s]\n"
     ]
    },
    {
     "name": "stdout",
     "output_type": "stream",
     "text": [
      "done\n",
      "Ingesting closed issues from 2015\n",
      "no issues found from 2014-12-31 to 2015-02-01\n",
      "Exception received, probably rate limiting\n",
      "Retry #1 for pull request from 2015-03-01 to 2015-02-01\n",
      "no issues found from 2015-02-01 to 2015-03-01\n",
      "no issues found from 2015-03-01 to 2015-04-01\n",
      "Exception received, probably rate limiting\n",
      "Retry #1 for pull request from 2015-05-01 to 2015-04-01\n",
      "no issues found from 2015-04-01 to 2015-05-01\n",
      "no issues found from 2015-05-01 to 2015-06-01\n",
      "no issues found from 2015-06-01 to 2015-07-01\n",
      "no issues found from 2015-07-01 to 2015-08-01\n",
      "no issues found from 2015-08-01 to 2015-09-01\n"
     ]
    },
    {
     "name": "stderr",
     "output_type": "stream",
     "text": [
      "Issues from 2015-09-01 to 2015-10-01:   0%|          | 0/34 [00:00<?, ?it/s]\n",
      "Issues from 2015-10-01 to 2015-11-01:   0%|          | 0/13 [00:00<?, ?it/s]\n",
      "Issues from 2015-11-01 to 2015-12-01:   0%|          | 0/22 [00:00<?, ?it/s]\n",
      "Issues from 2015-12-01 to 2016-01-01:   0%|          | 0/14 [00:00<?, ?it/s]\n"
     ]
    },
    {
     "name": "stdout",
     "output_type": "stream",
     "text": [
      "done\n",
      "Ingesting closed issues from 2014\n",
      "no issues found from 2013-12-31 to 2014-02-01\n",
      "no issues found from 2014-02-01 to 2014-03-01\n",
      "no issues found from 2014-03-01 to 2014-04-01\n",
      "no issues found from 2014-04-01 to 2014-05-01\n",
      "no issues found from 2014-05-01 to 2014-06-01\n",
      "no issues found from 2014-06-01 to 2014-07-01\n",
      "no issues found from 2014-07-01 to 2014-08-01\n",
      "no issues found from 2014-08-01 to 2014-09-01\n",
      "no issues found from 2014-09-01 to 2014-10-01\n",
      "no issues found from 2014-10-01 to 2014-11-01\n",
      "no issues found from 2014-11-01 to 2014-12-01\n",
      "no issues found from 2014-12-01 to 2015-01-01\n",
      "done\n",
      "Ingesting closed issues from 2013\n",
      "no issues found from 2012-12-31 to 2013-02-01\n",
      "no issues found from 2013-02-01 to 2013-03-01\n",
      "no issues found from 2013-03-01 to 2013-04-01\n",
      "no issues found from 2013-04-01 to 2013-05-01\n",
      "no issues found from 2013-05-01 to 2013-06-01\n",
      "no issues found from 2013-06-01 to 2013-07-01\n",
      "no issues found from 2013-07-01 to 2013-08-01\n",
      "no issues found from 2013-08-01 to 2013-09-01\n",
      "no issues found from 2013-09-01 to 2013-10-01\n",
      "Exception received, probably rate limiting\n",
      "Retry #1 for pull request from 2013-11-01 to 2013-10-01\n",
      "no issues found from 2013-10-01 to 2013-11-01\n",
      "no issues found from 2013-11-01 to 2013-12-01\n",
      "no issues found from 2013-12-01 to 2014-01-01\n",
      "done\n",
      "Ingesting closed issues from 2012\n",
      "no issues found from 2011-12-31 to 2012-02-01\n",
      "no issues found from 2012-02-01 to 2012-03-01\n",
      "no issues found from 2012-03-01 to 2012-04-01\n",
      "no issues found from 2012-04-01 to 2012-05-01\n",
      "no issues found from 2012-05-01 to 2012-06-01\n",
      "no issues found from 2012-06-01 to 2012-07-01\n",
      "no issues found from 2012-07-01 to 2012-08-01\n",
      "no issues found from 2012-08-01 to 2012-09-01\n",
      "no issues found from 2012-09-01 to 2012-10-01\n",
      "no issues found from 2012-10-01 to 2012-11-01\n",
      "no issues found from 2012-11-01 to 2012-12-01\n",
      "no issues found from 2012-12-01 to 2013-01-01\n",
      "done\n",
      "Ingesting closed issues from 2011\n",
      "no issues found from 2010-12-31 to 2011-02-01\n",
      "no issues found from 2011-02-01 to 2011-03-01\n",
      "no issues found from 2011-03-01 to 2011-04-01\n",
      "no issues found from 2011-04-01 to 2011-05-01\n",
      "no issues found from 2011-05-01 to 2011-06-01\n",
      "Exception received, probably rate limiting\n",
      "Retry #1 for pull request from 2011-07-01 to 2011-06-01\n",
      "no issues found from 2011-06-01 to 2011-07-01\n",
      "no issues found from 2011-07-01 to 2011-08-01\n",
      "no issues found from 2011-08-01 to 2011-09-01\n",
      "no issues found from 2011-09-01 to 2011-10-01\n",
      "no issues found from 2011-10-01 to 2011-11-01\n",
      "no issues found from 2011-11-01 to 2011-12-01\n",
      "no issues found from 2011-12-01 to 2012-01-01\n",
      "done\n",
      "Ingesting closed issues from 2010\n",
      "no issues found from 2009-12-31 to 2010-02-01\n",
      "no issues found from 2010-02-01 to 2010-03-01\n",
      "no issues found from 2010-03-01 to 2010-04-01\n",
      "no issues found from 2010-04-01 to 2010-05-01\n",
      "no issues found from 2010-05-01 to 2010-06-01\n",
      "no issues found from 2010-06-01 to 2010-07-01\n",
      "no issues found from 2010-07-01 to 2010-08-01\n",
      "no issues found from 2010-08-01 to 2010-09-01\n",
      "no issues found from 2010-09-01 to 2010-10-01\n",
      "no issues found from 2010-10-01 to 2010-11-01\n",
      "no issues found from 2010-11-01 to 2010-12-01\n",
      "no issues found from 2010-12-01 to 2011-01-01\n",
      "done\n"
     ]
    }
   ],
   "source": [
    "for year in reversed(range(2010, 2020)):\n",
    "    print(f\"Ingesting closed issues from {year}\")\n",
    "    perform_issue_ingestion(year)"
   ]
  },
  {
   "cell_type": "code",
   "execution_count": 9,
   "metadata": {},
   "outputs": [
    {
     "name": "stdout",
     "output_type": "stream",
     "text": [
      "Total repos:  1\n",
      "Resultado incompleto:  False\n",
      "Lista de repositórios encontrados:\n",
      "- [NewPipe] ~> owner: TeamNewPipe, created: 2015-09-03T23:39:26Z, size: 63517, watchers: 22045, url: https://github.com/TeamNewPipe/NewPipe\n"
     ]
    }
   ],
   "source": [
    "query_string = \"repo:TeamNewPipe/NewPipe\"\n",
    "response_dict = api.search.repos(q=query_string, sort=\"stars\", order=\"desc\", per_page=10, page=1)\n",
    "\n"
   ]
  },
  {
   "cell_type": "code",
   "execution_count": 11,
   "metadata": {},
   "outputs": [
    {
     "data": {
      "text/plain": [
       "(8673, 30)"
      ]
     },
     "execution_count": 11,
     "metadata": {},
     "output_type": "execute_result"
    }
   ],
   "source": [
    "df_issues = pd.read_csv(\"issues.csv\")\n",
    "df_issues.shape"
   ]
  },
  {
   "cell_type": "code",
   "execution_count": 12,
   "metadata": {},
   "outputs": [],
   "source": [
    "df_issues_normal = df_issues.drop_duplicates(\"url\")\n"
   ]
  },
  {
   "cell_type": "code",
   "execution_count": 35,
   "metadata": {},
   "outputs": [
    {
     "name": "stdout",
     "output_type": "stream",
     "text": [
      "['template missing', 'duplicate', 'waiting for author']\n"
     ]
    }
   ],
   "source": [
    "import json\n",
    "from ast import literal_eval\n",
    "#arra = json.loads(df_issues_normal.loc[0][\"labels\"])\n",
    "labels = df_issues_normal.loc[3][\"labels\"]\n",
    "ll = literal_eval(labels)\n",
    "print([x[\"name\"] for x in ll])"
   ]
  },
  {
   "cell_type": "code",
   "execution_count": 46,
   "metadata": {},
   "outputs": [
    {
     "data": {
      "text/plain": [
       "(1776, 30)"
      ]
     },
     "execution_count": 46,
     "metadata": {},
     "output_type": "execute_result"
    }
   ],
   "source": [
    "\n",
    "df_issues_normal.loc[df_issues_normal[\"labels\"].str.contains(\"bug\")].shape"
   ]
  }
 ],
 "metadata": {
  "kernelspec": {
   "display_name": "Python 3.10.6 ('venv': venv)",
   "language": "python",
   "name": "python3"
  },
  "language_info": {
   "codemirror_mode": {
    "name": "ipython",
    "version": 3
   },
   "file_extension": ".py",
   "mimetype": "text/x-python",
   "name": "python",
   "nbconvert_exporter": "python",
   "pygments_lexer": "ipython3",
   "version": "3.10.6"
  },
  "orig_nbformat": 4,
  "vscode": {
   "interpreter": {
    "hash": "6c119bf5f27fa011feb7e404162bdc78f0ed541b52e78dfc4a0a5406e0e9f322"
   }
  }
 },
 "nbformat": 4,
 "nbformat_minor": 2
}
