{
 "cells": [
  {
   "cell_type": "code",
   "execution_count": 1,
   "metadata": {},
   "outputs": [],
   "source": [
    "from scipy import stats\n",
    "from dataset_loader import load_dataset\n",
    "import numpy\n",
    "import pingouin\n",
    "\n",
    "def run_mw_test(service_time, non_service_time, attribute, alpha=0.05):\n",
    "    result = {}\n",
    "    result[\"test\"] = \"Mann-Whitney\"\n",
    "    result[\"h0\"] = str(\"service_time\" + attribute + \" == non_service_time\" + attribute)\n",
    "    result[\"h1\"] = str(\"service_time\" + attribute + \" > non_service_time\" + attribute)\n",
    "    result[\"h2\"] = str(\"service_time\" + attribute + \" < non_service_time\" + attribute)\n",
    "    \n",
    "    mwu, p_value = stats.mannwhitneyu(service_time[attribute], non_service_time[attribute], alternative='two-sided')\n",
    "    result[\"accepted\"] = \"h0\"\n",
    "    result[\"h0stats\"] = mwu\n",
    "    result[\"h0p-value\"] = p_value\n",
    "    if p_value > alpha:\n",
    "        result[\"accepted\"] = \"h0\"\n",
    "    else :\n",
    "        mwu, p_value = stats.mannwhitneyu(service_time[attribute], non_service_time[attribute], alternative='greater')        \n",
    "        if p_value <= alpha:\n",
    "            result[\"accepted\"] = \"h1\"\n",
    "        else :\n",
    "            mwu, p_value = stats.mannwhitneyu(service_time[attribute], non_service_time[attribute], alternative='less')\n",
    "            if p_value <= alpha:\n",
    "                result[\"accepted\"] = \"h2\"\n",
    "                \n",
    "    result[\"stats\"] = mwu\n",
    "    result[\"p-value\"] = p_value\n",
    "    result[\"effec-size\"] = numpy.abs(pingouin.compute_effsize(service_time[attribute], non_service_time[attribute], eftype='cohen'))\n",
    "    \n",
    "    return result\n",
    "\n",
    "    \n",
    "def print_test_result(result):\n",
    "    if result[\"accepted\"] != \"h0\":\n",
    "        print(\"{} test result: the H0 was rejected with statistic {} and p-value {}. Then the alternative hypothesis {} was acepted with statistic {} and p-value {}, with Cohen’s d effect size = {} [0.2 <= d (small), 0.5 <= d (medium), 0.8 <= d (large)].\".format(\n",
    "            result[\"test\"],            \n",
    "            result[\"h0stats\"], \n",
    "            result[\"h0p-value\"],            \n",
    "            result[result[\"accepted\"]], \n",
    "            result[\"stats\"], \n",
    "            result[\"p-value\"],\n",
    "            result[\"effec-size\"]))\n",
    "    else:\n",
    "        print(\"{} test result: the hypothesis {} is acepted with statistic {} and p-value {}, with Cohen’s d effect size = {} [0.2 <= d (small), 0.5 <= d (medium), 0.8 <= d (large)].\".format(result[\"test\"], result[result[\"accepted\"]], result[\"stats\"], result[\"p-value\"], result[\"effec-size\"]))"
   ]
  },
  {
   "cell_type": "markdown",
   "metadata": {},
   "source": [
    "## Comparando Serviços"
   ]
  },
  {
   "cell_type": "code",
   "execution_count": 7,
   "metadata": {},
   "outputs": [],
   "source": [
    "def fetch_comparison_data(dataset, serviceName, exclude):\n",
    "    if (exclude):\n",
    "        return dataset.loc[dataset[\"labels\"].str.contains(serviceName)]\n",
    "    else:\n",
    "        return dataset.loc[~dataset[\"labels\"].str.contains(serviceName)]\n",
    "\n",
    "def run_difference_between_issue_resolution():\n",
    "    service_tags = ['bandcamp', 'youtube', 'media.ccc.de', 'soundcloud', 'peertube']\n",
    "    for service in service_tags:\n",
    "        compare_service(service)\n",
    "\n",
    "def compare_service(service):\n",
    "    dataset = load_dataset()\n",
    "    yes_dataset = fetch_comparison_data(dataset, service, False)\n",
    "    no_dataset = fetch_comparison_data(dataset, service, True)\n",
    "    # print(yes_dataset)\n",
    "    # print(no_dataset)\n",
    "\n",
    "    print_test_result(run_mw_test(yes_dataset, no_dataset, 'time_to_complete'))"
   ]
  },
  {
   "cell_type": "code",
   "execution_count": 8,
   "metadata": {},
   "outputs": [
    {
     "name": "stderr",
     "output_type": "stream",
     "text": [
      "c:\\Users\\Júnior\\Work Space\\HD Externo\\Work (E)\\MDCC\\Tópicos Especiais em Engenharia de Software\\msr2022\\dataset_loader.py:36: SettingWithCopyWarning: \n",
      "A value is trying to be set on a copy of a slice from a DataFrame.\n",
      "Try using .loc[row_indexer,col_indexer] = value instead\n",
      "\n",
      "See the caveats in the documentation: https://pandas.pydata.org/pandas-docs/stable/user_guide/indexing.html#returning-a-view-versus-a-copy\n",
      "  df_issues_no_outliers[\"label_crunched\"] = df_issues_no_outliers[\"labels\"].apply(convert_label_to_number)\n",
      "c:\\Users\\Júnior\\Work Space\\HD Externo\\Work (E)\\MDCC\\Tópicos Especiais em Engenharia de Software\\msr2022\\dataset_loader.py:38: SettingWithCopyWarning: \n",
      "A value is trying to be set on a copy of a slice from a DataFrame.\n",
      "Try using .loc[row_indexer,col_indexer] = value instead\n",
      "\n",
      "See the caveats in the documentation: https://pandas.pydata.org/pandas-docs/stable/user_guide/indexing.html#returning-a-view-versus-a-copy\n",
      "  df_issues_no_outliers[\"closed_at\"] = df_issues[\"closed_at\"].apply(datetime.timestamp)\n",
      "c:\\Users\\Júnior\\Work Space\\HD Externo\\Work (E)\\MDCC\\Tópicos Especiais em Engenharia de Software\\msr2022\\dataset_loader.py:39: SettingWithCopyWarning: \n",
      "A value is trying to be set on a copy of a slice from a DataFrame.\n",
      "Try using .loc[row_indexer,col_indexer] = value instead\n",
      "\n",
      "See the caveats in the documentation: https://pandas.pydata.org/pandas-docs/stable/user_guide/indexing.html#returning-a-view-versus-a-copy\n",
      "  df_issues_no_outliers[\"created_at\"] = df_issues[\"created_at\"].apply(datetime.timestamp)\n"
     ]
    },
    {
     "name": "stdout",
     "output_type": "stream",
     "text": [
      "Mann-Whitney test result: the hypothesis service_timetime_to_complete == NON_service_timetime_to_complete is acepted with statistic 2748.0 and p-value 0.2298316464762843, with Cohen’s d effect size = 0.2416596096784851 [0.2 <= d (small), 0.5 <= d (medium), 0.8 <= d (large)].\n"
     ]
    },
    {
     "name": "stderr",
     "output_type": "stream",
     "text": [
      "c:\\Users\\Júnior\\Work Space\\HD Externo\\Work (E)\\MDCC\\Tópicos Especiais em Engenharia de Software\\msr2022\\dataset_loader.py:36: SettingWithCopyWarning: \n",
      "A value is trying to be set on a copy of a slice from a DataFrame.\n",
      "Try using .loc[row_indexer,col_indexer] = value instead\n",
      "\n",
      "See the caveats in the documentation: https://pandas.pydata.org/pandas-docs/stable/user_guide/indexing.html#returning-a-view-versus-a-copy\n",
      "  df_issues_no_outliers[\"label_crunched\"] = df_issues_no_outliers[\"labels\"].apply(convert_label_to_number)\n",
      "c:\\Users\\Júnior\\Work Space\\HD Externo\\Work (E)\\MDCC\\Tópicos Especiais em Engenharia de Software\\msr2022\\dataset_loader.py:38: SettingWithCopyWarning: \n",
      "A value is trying to be set on a copy of a slice from a DataFrame.\n",
      "Try using .loc[row_indexer,col_indexer] = value instead\n",
      "\n",
      "See the caveats in the documentation: https://pandas.pydata.org/pandas-docs/stable/user_guide/indexing.html#returning-a-view-versus-a-copy\n",
      "  df_issues_no_outliers[\"closed_at\"] = df_issues[\"closed_at\"].apply(datetime.timestamp)\n",
      "c:\\Users\\Júnior\\Work Space\\HD Externo\\Work (E)\\MDCC\\Tópicos Especiais em Engenharia de Software\\msr2022\\dataset_loader.py:39: SettingWithCopyWarning: \n",
      "A value is trying to be set on a copy of a slice from a DataFrame.\n",
      "Try using .loc[row_indexer,col_indexer] = value instead\n",
      "\n",
      "See the caveats in the documentation: https://pandas.pydata.org/pandas-docs/stable/user_guide/indexing.html#returning-a-view-versus-a-copy\n",
      "  df_issues_no_outliers[\"created_at\"] = df_issues[\"created_at\"].apply(datetime.timestamp)\n"
     ]
    },
    {
     "name": "stdout",
     "output_type": "stream",
     "text": [
      "Mann-Whitney test result: the H0 was rejected with statistic 287846.0 and p-value 1.8410604117042094e-16. Then the alternative hypothesis service_timetime_to_complete < NON_service_timetime_to_complete was acepted with statistic 287846.0 and p-value 9.205302058521047e-17, with Cohen’s d effect size = 0.10260614740525463 [0.2 <= d (small), 0.5 <= d (medium), 0.8 <= d (large)].\n"
     ]
    },
    {
     "name": "stderr",
     "output_type": "stream",
     "text": [
      "c:\\Users\\Júnior\\Work Space\\HD Externo\\Work (E)\\MDCC\\Tópicos Especiais em Engenharia de Software\\msr2022\\dataset_loader.py:36: SettingWithCopyWarning: \n",
      "A value is trying to be set on a copy of a slice from a DataFrame.\n",
      "Try using .loc[row_indexer,col_indexer] = value instead\n",
      "\n",
      "See the caveats in the documentation: https://pandas.pydata.org/pandas-docs/stable/user_guide/indexing.html#returning-a-view-versus-a-copy\n",
      "  df_issues_no_outliers[\"label_crunched\"] = df_issues_no_outliers[\"labels\"].apply(convert_label_to_number)\n",
      "c:\\Users\\Júnior\\Work Space\\HD Externo\\Work (E)\\MDCC\\Tópicos Especiais em Engenharia de Software\\msr2022\\dataset_loader.py:38: SettingWithCopyWarning: \n",
      "A value is trying to be set on a copy of a slice from a DataFrame.\n",
      "Try using .loc[row_indexer,col_indexer] = value instead\n",
      "\n",
      "See the caveats in the documentation: https://pandas.pydata.org/pandas-docs/stable/user_guide/indexing.html#returning-a-view-versus-a-copy\n",
      "  df_issues_no_outliers[\"closed_at\"] = df_issues[\"closed_at\"].apply(datetime.timestamp)\n",
      "c:\\Users\\Júnior\\Work Space\\HD Externo\\Work (E)\\MDCC\\Tópicos Especiais em Engenharia de Software\\msr2022\\dataset_loader.py:39: SettingWithCopyWarning: \n",
      "A value is trying to be set on a copy of a slice from a DataFrame.\n",
      "Try using .loc[row_indexer,col_indexer] = value instead\n",
      "\n",
      "See the caveats in the documentation: https://pandas.pydata.org/pandas-docs/stable/user_guide/indexing.html#returning-a-view-versus-a-copy\n",
      "  df_issues_no_outliers[\"created_at\"] = df_issues[\"created_at\"].apply(datetime.timestamp)\n"
     ]
    },
    {
     "name": "stdout",
     "output_type": "stream",
     "text": [
      "Mann-Whitney test result: the H0 was rejected with statistic 11449.0 and p-value 0.02179061101940417. Then the alternative hypothesis service_timetime_to_complete < NON_service_timetime_to_complete was acepted with statistic 11449.0 and p-value 0.010895305509702085, with Cohen’s d effect size = 0.023634869396139502 [0.2 <= d (small), 0.5 <= d (medium), 0.8 <= d (large)].\n"
     ]
    },
    {
     "name": "stderr",
     "output_type": "stream",
     "text": [
      "c:\\Users\\Júnior\\Work Space\\HD Externo\\Work (E)\\MDCC\\Tópicos Especiais em Engenharia de Software\\msr2022\\dataset_loader.py:36: SettingWithCopyWarning: \n",
      "A value is trying to be set on a copy of a slice from a DataFrame.\n",
      "Try using .loc[row_indexer,col_indexer] = value instead\n",
      "\n",
      "See the caveats in the documentation: https://pandas.pydata.org/pandas-docs/stable/user_guide/indexing.html#returning-a-view-versus-a-copy\n",
      "  df_issues_no_outliers[\"label_crunched\"] = df_issues_no_outliers[\"labels\"].apply(convert_label_to_number)\n",
      "c:\\Users\\Júnior\\Work Space\\HD Externo\\Work (E)\\MDCC\\Tópicos Especiais em Engenharia de Software\\msr2022\\dataset_loader.py:38: SettingWithCopyWarning: \n",
      "A value is trying to be set on a copy of a slice from a DataFrame.\n",
      "Try using .loc[row_indexer,col_indexer] = value instead\n",
      "\n",
      "See the caveats in the documentation: https://pandas.pydata.org/pandas-docs/stable/user_guide/indexing.html#returning-a-view-versus-a-copy\n",
      "  df_issues_no_outliers[\"closed_at\"] = df_issues[\"closed_at\"].apply(datetime.timestamp)\n",
      "c:\\Users\\Júnior\\Work Space\\HD Externo\\Work (E)\\MDCC\\Tópicos Especiais em Engenharia de Software\\msr2022\\dataset_loader.py:39: SettingWithCopyWarning: \n",
      "A value is trying to be set on a copy of a slice from a DataFrame.\n",
      "Try using .loc[row_indexer,col_indexer] = value instead\n",
      "\n",
      "See the caveats in the documentation: https://pandas.pydata.org/pandas-docs/stable/user_guide/indexing.html#returning-a-view-versus-a-copy\n",
      "  df_issues_no_outliers[\"created_at\"] = df_issues[\"created_at\"].apply(datetime.timestamp)\n"
     ]
    },
    {
     "name": "stdout",
     "output_type": "stream",
     "text": [
      "Mann-Whitney test result: the H0 was rejected with statistic 42431.0 and p-value 0.0014819647410689043. Then the alternative hypothesis service_timetime_to_complete < NON_service_timetime_to_complete was acepted with statistic 42431.0 and p-value 0.0007409823705344521, with Cohen’s d effect size = 0.5855288012477932 [0.2 <= d (small), 0.5 <= d (medium), 0.8 <= d (large)].\n",
      "Mann-Whitney test result: the H0 was rejected with statistic 19054.0 and p-value 0.040774335347854795. Then the alternative hypothesis service_timetime_to_complete < NON_service_timetime_to_complete was acepted with statistic 19054.0 and p-value 0.020387167673927398, with Cohen’s d effect size = 0.05904668645382262 [0.2 <= d (small), 0.5 <= d (medium), 0.8 <= d (large)].\n"
     ]
    },
    {
     "name": "stderr",
     "output_type": "stream",
     "text": [
      "c:\\Users\\Júnior\\Work Space\\HD Externo\\Work (E)\\MDCC\\Tópicos Especiais em Engenharia de Software\\msr2022\\dataset_loader.py:36: SettingWithCopyWarning: \n",
      "A value is trying to be set on a copy of a slice from a DataFrame.\n",
      "Try using .loc[row_indexer,col_indexer] = value instead\n",
      "\n",
      "See the caveats in the documentation: https://pandas.pydata.org/pandas-docs/stable/user_guide/indexing.html#returning-a-view-versus-a-copy\n",
      "  df_issues_no_outliers[\"label_crunched\"] = df_issues_no_outliers[\"labels\"].apply(convert_label_to_number)\n",
      "c:\\Users\\Júnior\\Work Space\\HD Externo\\Work (E)\\MDCC\\Tópicos Especiais em Engenharia de Software\\msr2022\\dataset_loader.py:38: SettingWithCopyWarning: \n",
      "A value is trying to be set on a copy of a slice from a DataFrame.\n",
      "Try using .loc[row_indexer,col_indexer] = value instead\n",
      "\n",
      "See the caveats in the documentation: https://pandas.pydata.org/pandas-docs/stable/user_guide/indexing.html#returning-a-view-versus-a-copy\n",
      "  df_issues_no_outliers[\"closed_at\"] = df_issues[\"closed_at\"].apply(datetime.timestamp)\n",
      "c:\\Users\\Júnior\\Work Space\\HD Externo\\Work (E)\\MDCC\\Tópicos Especiais em Engenharia de Software\\msr2022\\dataset_loader.py:39: SettingWithCopyWarning: \n",
      "A value is trying to be set on a copy of a slice from a DataFrame.\n",
      "Try using .loc[row_indexer,col_indexer] = value instead\n",
      "\n",
      "See the caveats in the documentation: https://pandas.pydata.org/pandas-docs/stable/user_guide/indexing.html#returning-a-view-versus-a-copy\n",
      "  df_issues_no_outliers[\"created_at\"] = df_issues[\"created_at\"].apply(datetime.timestamp)\n"
     ]
    }
   ],
   "source": [
    "run_difference_between_issue_resolution()"
   ]
  }
 ],
 "metadata": {
  "kernelspec": {
   "display_name": "Python",
   "language": "python",
   "name": "python3"
  },
  "language_info": {
   "codemirror_mode": {
    "name": "ipython",
    "version": 3
   },
   "file_extension": ".py",
   "mimetype": "text/x-python",
   "name": "python",
   "nbconvert_exporter": "python",
   "pygments_lexer": "ipython3",
   "version": "3.11.0"
  },
  "orig_nbformat": 4,
  "vscode": {
   "interpreter": {
    "hash": "e84af6b3a5e8db5a272af672055f785931d638734d04662b3b30121d57dc3d6b"
   }
  }
 },
 "nbformat": 4,
 "nbformat_minor": 2
}
