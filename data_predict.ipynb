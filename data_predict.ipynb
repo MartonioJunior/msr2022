{
 "cells": [
  {
   "cell_type": "code",
   "execution_count": 1,
   "metadata": {},
   "outputs": [
    {
     "name": "stdout",
     "output_type": "stream",
     "text": [
      "Collecting scikit-learn\n",
      "  Using cached scikit_learn-1.1.3-cp310-cp310-manylinux_2_17_x86_64.manylinux2014_x86_64.whl (30.5 MB)\n",
      "Requirement already satisfied: numpy>=1.17.3 in ./venv/lib/python3.10/site-packages (from scikit-learn) (1.23.5)\n",
      "Collecting scipy>=1.3.2\n",
      "  Using cached scipy-1.9.3-cp310-cp310-manylinux_2_17_x86_64.manylinux2014_x86_64.whl (33.7 MB)\n",
      "Requirement already satisfied: joblib>=1.0.0 in ./venv/lib/python3.10/site-packages (from scikit-learn) (1.2.0)\n",
      "Requirement already satisfied: threadpoolctl>=2.0.0 in ./venv/lib/python3.10/site-packages (from scikit-learn) (3.1.0)\n",
      "Installing collected packages: scipy, scikit-learn\n",
      "Successfully installed scikit-learn-1.1.3 scipy-1.9.3\n",
      "\n",
      "\u001b[1m[\u001b[0m\u001b[34;49mnotice\u001b[0m\u001b[1;39;49m]\u001b[0m\u001b[39;49m A new release of pip available: \u001b[0m\u001b[31;49m22.2.1\u001b[0m\u001b[39;49m -> \u001b[0m\u001b[32;49m22.3.1\u001b[0m\n",
      "\u001b[1m[\u001b[0m\u001b[34;49mnotice\u001b[0m\u001b[1;39;49m]\u001b[0m\u001b[39;49m To update, run: \u001b[0m\u001b[32;49mpip install --upgrade pip\u001b[0m\n",
      "Note: you may need to restart the kernel to use updated packages.\n"
     ]
    }
   ],
   "source": [
    "pip install scikit-learn"
   ]
  },
  {
   "cell_type": "code",
   "execution_count": 1,
   "metadata": {},
   "outputs": [],
   "source": [
    "\n",
    "\n",
    "from sklearn.linear_model import LinearRegression, LogisticRegressionCV\n",
    "from sklearn.model_selection import train_test_split\n",
    "from sklearn import metrics\n",
    "from scipy import stats\n",
    "from dataset_loader import load_dataset\n"
   ]
  },
  {
   "cell_type": "code",
   "execution_count": 2,
   "metadata": {},
   "outputs": [],
   "source": [
    "def run_regression_model():\n",
    "    dataset = load_dataset()\n",
    "\n",
    "    # colunas com métricas computadas que serão usadas pelo modelo de regressão\n",
    "    x_variables = [\"label_crunched\", \"created_at\"]\n",
    "\n",
    "    # coluna que guarda o número de bugs de uma classe que se pretende prever\n",
    "    y_variable = ['time_to_complete']\n",
    "\n",
    "\n",
    "    # recuperando as colunas de dados que serão usadas para construir o modelo\n",
    "    X = dataset[x_variables]\n",
    "\n",
    "    # recuperando a coluna o numero de bug de cada classe\n",
    "    y = dataset[y_variable]\n",
    "\n",
    "\n",
    "    # separando em grupos de treio e teste\n",
    "    X_train, X_test, y_train, y_test = train_test_split(X, y, test_size=0.25, random_state=0)\n",
    "\n",
    "    # instanciando o classificado de regressão linear com validação cruzada\n",
    "    model = LinearRegression()\n",
    "\n",
    "    # treinando o modelo\n",
    "    model.fit(X_train, y_train)\n",
    "\n",
    "    # treinando o modelo\n",
    "    y_pred = model.predict(X_test)\n",
    "\n",
    "    print(\"Predictor Variables = {}\\n\".format(x_variables))\n",
    "    # para visualizar os coeficientes encontrados\n",
    "    print(model.coef_)\n",
    "\n",
    "    # para visualizar o R2\n",
    "    print(\"R² = {}\\n\".format(model.score(X, y)))\n"
   ]
  },
  {
   "cell_type": "code",
   "execution_count": 3,
   "metadata": {},
   "outputs": [
    {
     "name": "stdout",
     "output_type": "stream",
     "text": [
      "Predictor Variables = ['label_crunched', 'created_at']\n",
      "\n",
      "[[ 1.19427703e-05 -9.92330618e-02]]\n",
      "R² = 0.1371656272551145\n",
      "\n"
     ]
    },
    {
     "name": "stderr",
     "output_type": "stream",
     "text": [
      "/home/davit/UFC/mestrado/msr/msr2022/dataset_loader.py:36: SettingWithCopyWarning: \n",
      "A value is trying to be set on a copy of a slice from a DataFrame.\n",
      "Try using .loc[row_indexer,col_indexer] = value instead\n",
      "\n",
      "See the caveats in the documentation: https://pandas.pydata.org/pandas-docs/stable/user_guide/indexing.html#returning-a-view-versus-a-copy\n",
      "  df_issues_no_outliers[\"label_crunched\"] = df_issues_no_outliers[\"labels\"].apply(convert_label_to_number)\n",
      "/home/davit/UFC/mestrado/msr/msr2022/dataset_loader.py:38: SettingWithCopyWarning: \n",
      "A value is trying to be set on a copy of a slice from a DataFrame.\n",
      "Try using .loc[row_indexer,col_indexer] = value instead\n",
      "\n",
      "See the caveats in the documentation: https://pandas.pydata.org/pandas-docs/stable/user_guide/indexing.html#returning-a-view-versus-a-copy\n",
      "  df_issues_no_outliers[\"closed_at\"] = df_issues[\"closed_at\"].apply(datetime.timestamp)\n",
      "/home/davit/UFC/mestrado/msr/msr2022/dataset_loader.py:39: SettingWithCopyWarning: \n",
      "A value is trying to be set on a copy of a slice from a DataFrame.\n",
      "Try using .loc[row_indexer,col_indexer] = value instead\n",
      "\n",
      "See the caveats in the documentation: https://pandas.pydata.org/pandas-docs/stable/user_guide/indexing.html#returning-a-view-versus-a-copy\n",
      "  df_issues_no_outliers[\"created_at\"] = df_issues[\"created_at\"].apply(datetime.timestamp)\n"
     ]
    }
   ],
   "source": [
    "run_regression_model()"
   ]
  }
 ],
 "metadata": {
  "kernelspec": {
   "display_name": "Python 3.10.6 ('venv': venv)",
   "language": "python",
   "name": "python3"
  },
  "language_info": {
   "codemirror_mode": {
    "name": "ipython",
    "version": 3
   },
   "file_extension": ".py",
   "mimetype": "text/x-python",
   "name": "python",
   "nbconvert_exporter": "python",
   "pygments_lexer": "ipython3",
   "version": "3.10.6"
  },
  "orig_nbformat": 4,
  "vscode": {
   "interpreter": {
    "hash": "6c119bf5f27fa011feb7e404162bdc78f0ed541b52e78dfc4a0a5406e0e9f322"
   }
  }
 },
 "nbformat": 4,
 "nbformat_minor": 2
}
